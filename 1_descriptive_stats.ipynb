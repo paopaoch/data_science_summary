{
 "cells": [
  {
   "cell_type": "markdown",
   "metadata": {},
   "source": [
    "# Descriptive Statistics"
   ]
  },
  {
   "cell_type": "markdown",
   "metadata": {},
   "source": [
    "Descriptive statistics concerns the description of a dataset. Understanding the dataset statistically will allow a datascientist to build and design better statistical or machine learning models to make prediction.\n",
    "\n",
    "This notebook will cover a few basic statistical features as well as provide useful code for reference."
   ]
  },
  {
   "cell_type": "code",
   "execution_count": 1,
   "metadata": {},
   "outputs": [],
   "source": [
    "import numpy as np\n",
    "import scipy as sp"
   ]
  },
  {
   "cell_type": "markdown",
   "metadata": {},
   "source": [
    "# Central Tendency\n",
    "\n",
    "Central tendencies are measures which aims to find the \"middle\" point of your samples or distribution. There are 3 metrics:\n",
    "\n",
    "1. Mean\n",
    "2. Mode\n",
    "3. Median\n",
    "\n",
    "The mean is the average of all the samples. It is calculated via\n",
    "\n",
    "$$mean = \\mu = \\frac{\\sum_{i=0}^{n}{x_i}}{n}$$\n",
    "\n",
    "The mode is the value that appear the most frequently.\n",
    "\n",
    "The median is the middle value when you arrange the samples in order.\n",
    "\n",
    "$$median = x_{(i + 1)/2}$$"
   ]
  },
  {
   "cell_type": "code",
   "execution_count": 2,
   "metadata": {},
   "outputs": [
    {
     "name": "stdout",
     "output_type": "stream",
     "text": [
      "Samples: [1 2 3 3 4 4 4 5 5 5 6 6 6 6 6 7 7]\n",
      "mean: 4.705882352941177\n",
      "mode: 6\n",
      "median: 5\n"
     ]
    }
   ],
   "source": [
    "samples = np.array([1,4,6,3,5,7,4,2,3,4,6,6,5,7,6,6,5])\n",
    "samples = np.sort(samples)\n",
    "\n",
    "print(\"Samples:\", samples)\n",
    "print(\"mean:\", np.mean(samples))\n",
    "print(\"mode:\", np.bincount(samples).argmax())\n",
    "print(\"median:\", samples[int((len(samples) + 1) / 2)])"
   ]
  },
  {
   "cell_type": "markdown",
   "metadata": {},
   "source": [
    "## Measure of Dispersion\n",
    "\n",
    "Central tendencies tells you where the middle of the samples are. However, we also want to know how spread out the values are. To do this we could use a few measures:\n",
    "\n",
    "1. Range\n",
    "2. Interquartile Range (IQR)\n",
    "3. Variance\n",
    "4. Standard diviation\n",
    "\n",
    "The range is the difference between the max and min values of the samples. The IQR is the difference between the 75% position and the 25% position of the samples."
   ]
  },
  {
   "cell_type": "code",
   "execution_count": 3,
   "metadata": {},
   "outputs": [
    {
     "name": "stdout",
     "output_type": "stream",
     "text": [
      "range: 6\n",
      "Upper quartile: 6\n",
      "Lower quartile: 4\n",
      "IQR: 2\n"
     ]
    }
   ],
   "source": [
    "print(\"range:\", max(samples) - min(samples))\n",
    "upper_q = samples[int(3*(len(samples) + 1)/4)]\n",
    "lower_q = samples[int((len(samples) + 1)/4)]\n",
    "print(\"Upper quartile:\", upper_q)\n",
    "print(\"Lower quartile:\", lower_q)\n",
    "print(\"IQR:\", upper_q - lower_q)"
   ]
  },
  {
   "cell_type": "markdown",
   "metadata": {},
   "source": [
    "The variance of samples is the measure of the deviation from the mean. The standard deviation is the square root of the variance\n",
    "\n",
    "$$\\sigma^2 = var = \\frac{\\sum{(x-\\mu)^2}}{n-1}$$\n"
   ]
  },
  {
   "cell_type": "code",
   "execution_count": 4,
   "metadata": {},
   "outputs": [
    {
     "name": "stdout",
     "output_type": "stream",
     "text": [
      "variance: 2.7958477508650517\n",
      "std: 1.6720788710061052\n"
     ]
    }
   ],
   "source": [
    "print(\"variance:\", np.var(samples))\n",
    "print(\"std:\", np.std(samples))"
   ]
  },
  {
   "cell_type": "markdown",
   "metadata": {},
   "source": [
    "## Skewness\n",
    "\n",
    "Sometimes distributions are not necessary centralised and normally distributed and could be \"skewed\" or piled up to the left or the right. A zero skew is just the Gaussian.\n",
    "\n",
    "![skewness](./images/skew.webp)"
   ]
  },
  {
   "cell_type": "markdown",
   "metadata": {},
   "source": [
    "A good measure for the skewness is to use the Pearson's skewness function which could be calculated using the mode or the median.\n",
    "\n",
    "Using the mode:\n",
    "$$sk_1 = \\frac{\\mu - mode}{\\sigma}$$\n",
    "\n",
    "Using the median:\n",
    "$$sk_2 = \\frac{3 (\\mu - median)}{\\sigma}$$\n",
    "\n",
    "$sk_1$ uses the mode which is vulnerable to mistakes as the mode could only appear 3 times in a sample size of 1000 etc.\n",
    "\n",
    "A better metric is to use the Fisher Pearson Coefficient which is calculated as\n",
    "\n",
    "$$g_1 = \\frac{m_3}{m_2^{3/2}}$$\n",
    "\n",
    "where\n",
    "\n",
    "$$m_k = \\frac{1}{n} \\sum_{i=1}^{n}(x_i - \\mu)^k$$"
   ]
  },
  {
   "cell_type": "code",
   "execution_count": 5,
   "metadata": {},
   "outputs": [
    {
     "name": "stdout",
     "output_type": "stream",
     "text": [
      "sk1: -0.773957299203321\n",
      "sk2: -0.5276981585477186\n"
     ]
    },
    {
     "name": "stdout",
     "output_type": "stream",
     "text": [
      "g1: -0.5867376554941471\n"
     ]
    }
   ],
   "source": [
    "mean = np.mean(samples)\n",
    "mode = np.bincount(samples).argmax()\n",
    "median = samples[int((len(samples) + 1) / 2)]\n",
    "std = np.std(samples)\n",
    "\n",
    "print(\"sk1:\", (mean - mode) / std)\n",
    "print(\"sk2:\", 3 * (mean - median) / std)\n",
    "\n",
    "print(\"g1:\", sp.stats.skew(samples))"
   ]
  },
  {
   "cell_type": "markdown",
   "metadata": {},
   "source": [
    "## Kurtosis\n",
    "\n",
    "A very similar but fundamentally different concept to the variance is the kurtosis. This tells you how much the data clusters in the mean and in the tails of the distribution.\n",
    "\n",
    "It is calculated as\n",
    "\n",
    "$$K = \\frac{1}{n} \\sum_{i=1}^{n}(x_i - \\mu)^4 $$\n",
    "\n",
    "![kurtosis](./images/kurtosis.png)"
   ]
  },
  {
   "cell_type": "code",
   "execution_count": 6,
   "metadata": {},
   "outputs": [
    {
     "name": "stdout",
     "output_type": "stream",
     "text": [
      "kurtosis: -0.5215787667875689\n"
     ]
    }
   ],
   "source": [
    "print(\"kurtosis:\", sp.stats.kurtosis(samples))"
   ]
  },
  {
   "cell_type": "markdown",
   "metadata": {},
   "source": [
    "## Statistical Moments\n",
    "\n",
    "The values introduced here are values which could be considered statiscal moments where:\n",
    "\n",
    "1. First moment: Mean\n",
    "2. Second moment: Variance\n",
    "3. Third moment: Skewness\n",
    "4. Forth moment: Kurtosis\n",
    "\n",
    "Higher order moments do exist but their properties are not usually impactful and thus are not usually analysed."
   ]
  }
 ],
 "metadata": {
  "kernelspec": {
   "display_name": "base",
   "language": "python",
   "name": "python3"
  },
  "language_info": {
   "codemirror_mode": {
    "name": "ipython",
    "version": 3
   },
   "file_extension": ".py",
   "mimetype": "text/x-python",
   "name": "python",
   "nbconvert_exporter": "python",
   "pygments_lexer": "ipython3",
   "version": "3.11.3"
  }
 },
 "nbformat": 4,
 "nbformat_minor": 2
}
